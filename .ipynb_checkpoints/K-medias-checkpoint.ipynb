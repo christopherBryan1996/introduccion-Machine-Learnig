{
 "cells": [
  {
   "cell_type": "code",
   "execution_count": 1,
   "id": "3ab42fc2",
   "metadata": {},
   "outputs": [],
   "source": [
    "import pandas as pd\n",
    "import numpy as np\n",
    "import matplotlib.pyplot as plt\n",
    "import seaborn as sns"
   ]
  },
  {
   "cell_type": "code",
   "execution_count": 2,
   "id": "bdcfe878",
   "metadata": {},
   "outputs": [],
   "source": [
    "from sklearn.datasets import make_blobs"
   ]
  },
  {
   "cell_type": "code",
   "execution_count": 3,
   "id": "e0c73b5c",
   "metadata": {},
   "outputs": [],
   "source": [
    "datos= make_blobs(n_samples=200, n_features=2, centers=4)#200 ejemplos caracteristicas2 grupos4"
   ]
  },
  {
   "cell_type": "code",
   "execution_count": 4,
   "id": "d1dac7c3",
   "metadata": {},
   "outputs": [
    {
     "data": {
      "text/plain": [
       "(array([[ 4.93616479e-01, -1.45987987e+00],\n",
       "        [-1.10367018e+00, -5.58564713e+00],\n",
       "        [-1.44570381e+00, -2.75188388e+00],\n",
       "        [-4.88171156e+00,  8.40194989e+00],\n",
       "        [-6.09422741e+00,  8.18912325e+00],\n",
       "        [-3.71964704e-01, -2.39816807e+00],\n",
       "        [ 7.03484567e-02, -1.97850764e+00],\n",
       "        [-1.62618328e+00, -2.74385368e+00],\n",
       "        [ 6.79998274e+00,  1.95440248e+00],\n",
       "        [-3.12434032e+00, -2.06205409e+00],\n",
       "        [-7.44023556e-01, -6.17644880e+00],\n",
       "        [ 6.33828384e+00,  1.48544869e+00],\n",
       "        [ 2.14151402e-04, -3.31558480e+00],\n",
       "        [-5.91031720e-01, -7.02483640e+00],\n",
       "        [-1.51805752e+00, -4.97964344e+00],\n",
       "        [ 7.93642580e+00,  2.63943522e+00],\n",
       "        [ 8.03977851e+00,  1.68777534e+00],\n",
       "        [ 7.64762204e+00,  2.04868987e+00],\n",
       "        [-2.47221765e+00, -4.38325010e+00],\n",
       "        [-2.82744045e+00,  7.55821177e+00],\n",
       "        [-1.19286190e+00, -3.02255358e+00],\n",
       "        [ 7.51957727e-02, -3.48051083e+00],\n",
       "        [-1.44627940e+00,  7.57694662e+00],\n",
       "        [ 8.97483434e+00,  4.94883182e-01],\n",
       "        [-3.37659360e+00,  8.23714950e+00],\n",
       "        [ 6.03811796e+00,  1.59226516e+00],\n",
       "        [ 7.60998565e+00,  3.48549278e+00],\n",
       "        [-6.80312217e-01,  8.19781667e+00],\n",
       "        [-1.66461656e-01, -3.09839498e+00],\n",
       "        [-1.41092833e+00, -5.14706544e+00],\n",
       "        [ 7.46057923e+00,  1.00760593e+00],\n",
       "        [-2.61630698e+00, -5.54090416e+00],\n",
       "        [-3.47897072e-01, -2.38650162e-01],\n",
       "        [-1.42039881e+00, -3.23318342e+00],\n",
       "        [-7.57364567e-01, -4.70411128e+00],\n",
       "        [ 8.22709928e+00,  1.99446860e+00],\n",
       "        [-2.71216287e+00, -6.10602249e+00],\n",
       "        [-2.13636596e+00,  8.56779869e+00],\n",
       "        [ 8.40975179e+00,  1.98204525e+00],\n",
       "        [-7.58938465e-01, -3.51406996e+00],\n",
       "        [-4.63568563e-01, -1.02129894e+00],\n",
       "        [ 9.52172480e+00,  1.03632944e+00],\n",
       "        [-1.48376622e+00, -1.18042122e+00],\n",
       "        [ 8.12337046e+00,  9.65498647e-01],\n",
       "        [-1.26810859e+00, -5.59348092e-02],\n",
       "        [-6.13187148e-01, -6.45145110e+00],\n",
       "        [-2.06788035e-01, -1.83533916e+00],\n",
       "        [-1.86159121e+00, -4.69476658e+00],\n",
       "        [ 8.24565167e+00,  1.71542059e+00],\n",
       "        [-5.22432509e-01, -3.77182468e+00],\n",
       "        [-2.00555274e+00, -4.43332694e+00],\n",
       "        [-2.46012338e+00,  7.27624193e+00],\n",
       "        [-1.83260729e+00,  6.36604382e+00],\n",
       "        [-9.66861837e-02, -5.88804155e+00],\n",
       "        [-1.51852326e-01,  1.37506211e+00],\n",
       "        [-3.26074674e+00,  6.65604835e+00],\n",
       "        [-1.28747447e+00, -6.14918118e+00],\n",
       "        [ 8.35688086e+00,  1.87379537e+00],\n",
       "        [ 7.99507361e+00,  2.84343877e+00],\n",
       "        [ 9.05638965e+00,  4.90843482e+00],\n",
       "        [-2.83500930e+00, -5.52041247e-01],\n",
       "        [-9.95866167e-01,  6.44164729e-01],\n",
       "        [-3.98834822e+00,  8.49453218e+00],\n",
       "        [ 8.25450486e+00,  3.79227157e+00],\n",
       "        [ 7.98292814e+00,  3.66959757e+00],\n",
       "        [-3.36442750e+00,  8.83894057e+00],\n",
       "        [-1.41925801e+00,  8.53856586e+00],\n",
       "        [-2.12257122e+00,  7.96916566e+00],\n",
       "        [-3.39966317e+00,  7.27484245e+00],\n",
       "        [-5.46304812e+00,  7.43400859e+00],\n",
       "        [-1.84750740e+00, -2.48960756e+00],\n",
       "        [ 7.77494918e+00,  1.41028808e+00],\n",
       "        [-2.66557955e+00,  6.50669062e+00],\n",
       "        [ 9.92678186e-02, -3.51438316e+00],\n",
       "        [-3.86372818e+00,  9.35000326e+00],\n",
       "        [-2.95699982e+00,  7.49913445e+00],\n",
       "        [ 7.44204322e+00,  2.34918624e+00],\n",
       "        [ 7.66225183e+00,  1.69304908e+00],\n",
       "        [-3.34910017e+00, -5.07568249e+00],\n",
       "        [ 6.53565983e+00,  2.60901926e+00],\n",
       "        [-1.78655127e+00,  9.60011242e+00],\n",
       "        [ 1.05044336e+00, -2.75594689e+00],\n",
       "        [-2.19011863e+00, -5.59465556e+00],\n",
       "        [ 6.07005128e-01, -1.48134773e+00],\n",
       "        [ 4.30784927e-01, -5.31913328e+00],\n",
       "        [-1.64385603e+00, -4.83836770e+00],\n",
       "        [ 8.89770011e+00,  3.17729064e+00],\n",
       "        [ 7.50806459e+00,  2.74912617e+00],\n",
       "        [-2.30319442e+00,  7.93665954e+00],\n",
       "        [-1.95455304e+00, -2.23882379e+00],\n",
       "        [ 6.99295398e+00,  2.71288453e+00],\n",
       "        [-2.57305913e+00, -5.50628246e+00],\n",
       "        [-3.12507880e+00,  8.37290102e+00],\n",
       "        [-1.21251922e+00, -1.70635912e+00],\n",
       "        [-2.22625487e+00,  8.39012400e+00],\n",
       "        [-2.24075250e+00, -4.18101304e+00],\n",
       "        [ 1.00620458e+00, -1.77104814e+00],\n",
       "        [-1.67176533e+00,  7.28062181e+00],\n",
       "        [-2.22384389e+00,  8.13305684e+00],\n",
       "        [ 2.65191658e-01,  4.52617247e-01],\n",
       "        [-2.70396552e+00, -2.96140444e+00],\n",
       "        [ 2.36055513e-01, -2.10057036e+00],\n",
       "        [ 8.34204911e+00,  9.56163662e-01],\n",
       "        [-3.04311959e-02, -2.91502993e+00],\n",
       "        [-3.05621081e+00, -4.79596369e+00],\n",
       "        [-1.25692008e+00, -1.87239479e+00],\n",
       "        [-2.18530285e+00,  8.04433348e+00],\n",
       "        [ 6.64466930e+00,  1.45640696e+00],\n",
       "        [-1.13699246e+00, -5.53500590e+00],\n",
       "        [-2.42672948e+00, -5.54998818e+00],\n",
       "        [-1.71202376e+00, -4.10635926e+00],\n",
       "        [-1.40161796e+00,  7.20865108e+00],\n",
       "        [ 3.56687108e-01, -5.66044372e+00],\n",
       "        [-1.30247999e+00, -1.72149677e+00],\n",
       "        [ 8.91573065e-01, -1.76383168e+00],\n",
       "        [-2.47789261e+00, -2.18103722e+00],\n",
       "        [-3.17469109e-01, -5.42129370e+00],\n",
       "        [-1.10875493e+00, -2.60497801e-01],\n",
       "        [-2.68893674e+00, -5.59684382e+00],\n",
       "        [-2.66872497e+00, -5.64999787e+00],\n",
       "        [-2.65938468e+00,  7.17762091e+00],\n",
       "        [-3.69479142e-01, -1.74876900e+00],\n",
       "        [ 7.83768897e+00,  1.73238211e+00],\n",
       "        [ 8.24188110e+00,  2.70024733e+00],\n",
       "        [ 8.39469291e+00,  2.77472808e+00],\n",
       "        [-8.59889193e-01, -5.29592346e+00],\n",
       "        [-3.93175209e+00,  9.27366317e+00],\n",
       "        [-2.09234305e+00,  6.73340904e+00],\n",
       "        [ 4.01953875e-02, -3.19211661e+00],\n",
       "        [ 5.46779572e-01, -3.80889023e+00],\n",
       "        [ 6.34494210e+00,  2.05345824e+00],\n",
       "        [ 9.07760749e+00,  3.46218635e-01],\n",
       "        [-3.44236180e+00,  7.15807318e+00],\n",
       "        [-1.31028525e+00, -5.73702926e+00],\n",
       "        [ 7.49982947e+00,  3.58441883e+00],\n",
       "        [-4.06852379e+00,  7.61526657e+00],\n",
       "        [-2.73317924e+00, -4.69786674e+00],\n",
       "        [ 8.37460287e+00,  2.78416790e+00],\n",
       "        [-1.18939104e+00, -3.99355260e+00],\n",
       "        [-1.38152159e+00,  7.86349148e+00],\n",
       "        [-4.87958116e-01, -1.78239491e+00],\n",
       "        [-2.24316982e+00, -5.22806140e+00],\n",
       "        [-3.78235835e+00,  5.79661690e+00],\n",
       "        [ 1.27150159e+00, -1.06076794e+00],\n",
       "        [-1.93138018e+00, -2.15040277e+00],\n",
       "        [-2.53434378e+00, -5.15200844e+00],\n",
       "        [-3.86141598e+00, -4.75090409e+00],\n",
       "        [-2.41806266e+00,  6.93835256e+00],\n",
       "        [ 6.73709538e+00,  3.31251774e+00],\n",
       "        [-3.71684950e+00,  7.11107472e+00],\n",
       "        [-1.03295734e+00,  7.55486002e+00],\n",
       "        [-1.14323522e+00, -4.97048680e+00],\n",
       "        [-2.15918410e+00, -5.31837892e+00],\n",
       "        [ 8.67428521e+00,  1.59960886e+00],\n",
       "        [-2.20402991e+00,  7.03172712e+00],\n",
       "        [ 7.58079245e+00,  1.08687042e+00],\n",
       "        [-4.93510508e-01, -3.64653962e+00],\n",
       "        [ 7.44025902e+00,  6.12385590e-01],\n",
       "        [ 5.21116495e+00,  3.24948639e+00],\n",
       "        [-4.32186549e+00,  7.43454436e+00],\n",
       "        [-5.49447265e-01,  7.74581226e+00],\n",
       "        [ 6.45498757e+00,  3.95153772e+00],\n",
       "        [-2.34520862e+00, -2.90915672e+00],\n",
       "        [ 9.11955117e+00,  2.60278082e+00],\n",
       "        [-9.23873310e-01,  8.98440047e+00],\n",
       "        [-2.65378525e+00, -7.03407598e-01],\n",
       "        [-7.60203639e-01, -7.30938220e+00],\n",
       "        [-2.25401173e+00, -5.88748777e+00],\n",
       "        [ 6.49669050e+00,  3.41704729e+00],\n",
       "        [-1.67077743e+00, -5.61814898e+00],\n",
       "        [-3.16716184e+00, -6.30025950e+00],\n",
       "        [-2.23787239e+00,  6.50015777e+00],\n",
       "        [-1.22959419e+00, -1.73096131e+00],\n",
       "        [-8.76577844e-01, -2.76268133e+00],\n",
       "        [ 7.01166305e+00,  5.90075790e-01],\n",
       "        [-2.84627967e+00, -4.05785675e+00],\n",
       "        [ 8.53563538e+00,  2.53863105e+00],\n",
       "        [-8.40170797e-01,  8.65586431e+00],\n",
       "        [-1.91482071e+00,  8.66623945e+00],\n",
       "        [-2.42373418e+00, -2.28240430e+00],\n",
       "        [ 8.68760780e+00,  2.49784294e+00],\n",
       "        [ 9.40444442e+00,  1.51516097e+00],\n",
       "        [ 9.34628137e+00,  1.88684236e+00],\n",
       "        [-2.04795954e+00, -6.13457636e+00],\n",
       "        [-2.61398649e-01, -2.87203570e+00],\n",
       "        [-1.38975316e-02, -4.88878538e+00],\n",
       "        [-3.51549085e+00,  8.15887535e+00],\n",
       "        [ 8.08493227e+00,  8.53911700e-01],\n",
       "        [-2.78370031e+00,  6.61168427e+00],\n",
       "        [-2.05794398e+00,  8.82046660e+00],\n",
       "        [-3.61839843e+00,  6.82805740e+00],\n",
       "        [-3.02369407e+00,  8.38391930e+00],\n",
       "        [-3.20534811e+00, -4.89013523e+00],\n",
       "        [ 1.92006596e-01, -5.97414236e+00],\n",
       "        [-4.76398021e+00,  6.65079296e+00],\n",
       "        [-1.32407981e+00, -6.11591802e+00],\n",
       "        [-1.29309062e+00, -3.82700583e+00],\n",
       "        [ 6.07550957e-01, -2.01999031e+00],\n",
       "        [-7.56723981e-01, -5.97580974e+00],\n",
       "        [ 8.16385310e+00,  3.81901038e+00]]),\n",
       " array([0, 1, 0, 3, 3, 0, 0, 0, 2, 0, 1, 2, 0, 1, 1, 2, 2, 2, 1, 3, 0, 0,\n",
       "        3, 2, 3, 2, 2, 3, 0, 1, 2, 1, 0, 1, 1, 2, 1, 3, 2, 0, 0, 2, 0, 2,\n",
       "        0, 1, 0, 1, 2, 0, 1, 3, 3, 1, 0, 3, 1, 2, 2, 2, 0, 0, 3, 2, 2, 3,\n",
       "        3, 3, 3, 3, 0, 2, 3, 0, 3, 3, 2, 2, 1, 2, 3, 0, 1, 0, 1, 1, 2, 2,\n",
       "        3, 0, 2, 1, 3, 0, 3, 1, 0, 3, 3, 0, 0, 0, 2, 0, 1, 0, 3, 2, 1, 1,\n",
       "        1, 3, 1, 0, 0, 0, 1, 0, 1, 1, 3, 0, 2, 2, 2, 1, 3, 3, 0, 0, 2, 2,\n",
       "        3, 1, 2, 3, 1, 2, 0, 3, 0, 1, 3, 0, 0, 1, 1, 3, 2, 3, 3, 1, 1, 2,\n",
       "        3, 2, 1, 2, 2, 3, 3, 2, 0, 2, 3, 0, 1, 1, 2, 1, 1, 3, 0, 0, 2, 1,\n",
       "        2, 3, 3, 0, 2, 2, 2, 1, 0, 1, 3, 2, 3, 3, 3, 3, 1, 1, 3, 1, 1, 0,\n",
       "        1, 2]))"
      ]
     },
     "execution_count": 4,
     "metadata": {},
     "output_type": "execute_result"
    }
   ],
   "source": [
    "datos"
   ]
  },
  {
   "cell_type": "code",
   "execution_count": 6,
   "id": "7634128b",
   "metadata": {},
   "outputs": [
    {
     "data": {
      "image/png": "[encoded data removed]",
      "text/plain": [
       "<Figure size 432x288 with 1 Axes>"
      ]
     },
     "metadata": {
      "needs_background": "light"
     },
     "output_type": "display_data"
    }
   ],
   "source": [
    "plt.scatter(datos[0][:,0], datos[0][:,1])\n",
    "plt.show()"
   ]
  },
  {
   "cell_type": "code",
   "execution_count": 7,
   "id": "f61644c1",
   "metadata": {},
   "outputs": [],
   "source": [
    "from sklearn.cluster import KMeans"
   ]
  },
  {
   "cell_type": "code",
   "execution_count": 8,
   "id": "4a170ee5",
   "metadata": {},
   "outputs": [],
   "source": [
    "modelo = KMeans(n_clusters=4)"
   ]
  },
  {
   "cell_type": "code",
   "execution_count": 9,
   "id": "65c8311a",
   "metadata": {},
   "outputs": [
    {
     "data": {
      "text/plain": [
       "KMeans(n_clusters=4)"
      ]
     },
     "execution_count": 9,
     "metadata": {},
     "output_type": "execute_result"
    }
   ],
   "source": [
    "modelo.fit(datos[0])"
   ]
  },
  {
   "cell_type": "code",
   "execution_count": 10,
   "id": "668cbe2b",
   "metadata": {},
   "outputs": [
    {
     "data": {
      "text/plain": [
       "array([[-2.72890088,  7.75189289],\n",
       "       [-0.74683625, -2.03228644],\n",
       "       [ 7.8307963 ,  2.1960009 ],\n",
       "       [-1.67731383, -5.35141729]])"
      ]
     },
     "execution_count": 10,
     "metadata": {},
     "output_type": "execute_result"
    }
   ],
   "source": [
    "modelo.cluster_centers_"
   ]
  },
  {
   "cell_type": "code",
   "execution_count": 11,
   "id": "c29912b8",
   "metadata": {},
   "outputs": [
    {
     "data": {
      "text/plain": [
       "array([1, 3, 1, 0, 0, 1, 1, 1, 2, 1, 3, 2, 1, 3, 3, 2, 2, 2, 3, 0, 1, 1,\n",
       "       0, 2, 0, 2, 2, 0, 1, 3, 2, 3, 1, 1, 3, 2, 3, 0, 2, 1, 1, 2, 1, 2,\n",
       "       1, 3, 1, 3, 2, 1, 3, 0, 0, 3, 1, 0, 3, 2, 2, 2, 1, 1, 0, 2, 2, 0,\n",
       "       0, 0, 0, 0, 1, 2, 0, 1, 0, 0, 2, 2, 3, 2, 0, 1, 3, 1, 3, 3, 2, 2,\n",
       "       0, 1, 2, 3, 0, 1, 0, 3, 1, 0, 0, 1, 1, 1, 2, 1, 3, 1, 0, 2, 3, 3,\n",
       "       3, 0, 3, 1, 1, 1, 3, 1, 3, 3, 0, 1, 2, 2, 2, 3, 0, 0, 1, 1, 2, 2,\n",
       "       0, 3, 2, 0, 3, 2, 3, 0, 1, 3, 0, 1, 1, 3, 3, 0, 2, 0, 0, 3, 3, 2,\n",
       "       0, 2, 1, 2, 2, 0, 0, 2, 1, 2, 0, 1, 3, 3, 2, 3, 3, 0, 1, 1, 2, 3,\n",
       "       2, 0, 0, 1, 2, 2, 2, 3, 1, 3, 0, 2, 0, 0, 0, 0, 3, 3, 0, 3, 3, 1,\n",
       "       3, 2])"
      ]
     },
     "execution_count": 11,
     "metadata": {},
     "output_type": "execute_result"
    }
   ],
   "source": [
    "modelo.labels_"
   ]
  },
  {
   "cell_type": "code",
   "execution_count": 12,
   "id": "d76be25d",
   "metadata": {},
   "outputs": [
    {
     "data": {
      "text/plain": [
       "array([0, 1, 0, 3, 3, 0, 0, 0, 2, 0, 1, 2, 0, 1, 1, 2, 2, 2, 1, 3, 0, 0,\n",
       "       3, 2, 3, 2, 2, 3, 0, 1, 2, 1, 0, 1, 1, 2, 1, 3, 2, 0, 0, 2, 0, 2,\n",
       "       0, 1, 0, 1, 2, 0, 1, 3, 3, 1, 0, 3, 1, 2, 2, 2, 0, 0, 3, 2, 2, 3,\n",
       "       3, 3, 3, 3, 0, 2, 3, 0, 3, 3, 2, 2, 1, 2, 3, 0, 1, 0, 1, 1, 2, 2,\n",
       "       3, 0, 2, 1, 3, 0, 3, 1, 0, 3, 3, 0, 0, 0, 2, 0, 1, 0, 3, 2, 1, 1,\n",
       "       1, 3, 1, 0, 0, 0, 1, 0, 1, 1, 3, 0, 2, 2, 2, 1, 3, 3, 0, 0, 2, 2,\n",
       "       3, 1, 2, 3, 1, 2, 0, 3, 0, 1, 3, 0, 0, 1, 1, 3, 2, 3, 3, 1, 1, 2,\n",
       "       3, 2, 1, 2, 2, 3, 3, 2, 0, 2, 3, 0, 1, 1, 2, 1, 1, 3, 0, 0, 2, 1,\n",
       "       2, 3, 3, 0, 2, 2, 2, 1, 0, 1, 3, 2, 3, 3, 3, 3, 1, 1, 3, 1, 1, 0,\n",
       "       1, 2])"
      ]
     },
     "execution_count": 12,
     "metadata": {},
     "output_type": "execute_result"
    }
   ],
   "source": [
    "datos[1]"
   ]
  },
  {
   "cell_type": "code",
   "execution_count": 14,
   "id": "aa411fce",
   "metadata": {},
   "outputs": [
    {
     "data": {
      "text/plain": [
       "Text(0.5, 1.0, 'Datos originales')"
      ]
     },
     "execution_count": 14,
     "metadata": {},
     "output_type": "execute_result"
    },
    {
     "data": {
      "image/png": "[encoded data removed]",
      "text/plain": [
       "<Figure size 864x288 with 2 Axes>"
      ]
     },
     "metadata": {
      "needs_background": "light"
     },
     "output_type": "display_data"
    }
   ],
   "source": [
    "fig, (ax1,ax2)= plt.subplots(1,2, figsize=(12,4))\n",
    "\n",
    "ax1.scatter(datos[0][:,0], datos[0][:,1], c= modelo.labels_)\n",
    "ax1.set_title('Algoritmo de K-medias')\n",
    "\n",
    "ax2.scatter(datos[0][:,0], datos[0][:,1], c= datos[1])\n",
    "ax2.set_title('Datos originales')"
   ]
  },
  {
   "cell_type": "code",
   "execution_count": 15,
   "id": "f6743402",
   "metadata": {},
   "outputs": [],
   "source": [
    "flores = sns.load_dataset('iris')"
   ]
  },
  {
   "cell_type": "code",
   "execution_count": 16,
   "id": "75234050",
   "metadata": {},
   "outputs": [],
   "source": [
    "x=flores.drop('species', axis=1)"
   ]
  },
  {
   "cell_type": "code",
   "execution_count": 17,
   "id": "ca98b24e",
   "metadata": {},
   "outputs": [],
   "source": [
    "modelo2 = KMeans(n_clusters=3)"
   ]
  },
  {
   "cell_type": "code",
   "execution_count": 18,
   "id": "46effbee",
   "metadata": {},
   "outputs": [
    {
     "data": {
      "text/plain": [
       "KMeans(n_clusters=3)"
      ]
     },
     "execution_count": 18,
     "metadata": {},
     "output_type": "execute_result"
    }
   ],
   "source": [
    "modelo2.fit(x)"
   ]
  },
  {
   "cell_type": "code",
   "execution_count": 20,
   "id": "ae27f05d",
   "metadata": {},
   "outputs": [
    {
     "data": {
      "text/plain": [
       "array([[6.85      , 3.07368421, 5.74210526, 2.07105263],\n",
       "       [5.006     , 3.428     , 1.462     , 0.246     ],\n",
       "       [5.9016129 , 2.7483871 , 4.39354839, 1.43387097]])"
      ]
     },
     "execution_count": 20,
     "metadata": {},
     "output_type": "execute_result"
    }
   ],
   "source": [
    "modelo2.cluster_centers_"
   ]
  },
  {
   "cell_type": "code",
   "execution_count": 22,
   "id": "af33081e",
   "metadata": {},
   "outputs": [
    {
     "data": {
      "text/plain": [
       "array([1, 1, 1, 1, 1, 1, 1, 1, 1, 1, 1, 1, 1, 1, 1, 1, 1, 1, 1, 1, 1, 1,\n",
       "       1, 1, 1, 1, 1, 1, 1, 1, 1, 1, 1, 1, 1, 1, 1, 1, 1, 1, 1, 1, 1, 1,\n",
       "       1, 1, 1, 1, 1, 1, 2, 2, 0, 2, 2, 2, 2, 2, 2, 2, 2, 2, 2, 2, 2, 2,\n",
       "       2, 2, 2, 2, 2, 2, 2, 2, 2, 2, 2, 0, 2, 2, 2, 2, 2, 2, 2, 2, 2, 2,\n",
       "       2, 2, 2, 2, 2, 2, 2, 2, 2, 2, 2, 2, 0, 2, 0, 0, 0, 0, 2, 0, 0, 0,\n",
       "       0, 0, 0, 2, 2, 0, 0, 0, 0, 2, 0, 2, 0, 2, 0, 0, 2, 2, 0, 0, 0, 0,\n",
       "       0, 2, 0, 0, 0, 0, 2, 0, 0, 0, 2, 0, 0, 0, 2, 0, 0, 2])"
      ]
     },
     "execution_count": 22,
     "metadata": {},
     "output_type": "execute_result"
    }
   ],
   "source": [
    "modelo2.labels_"
   ]
  },
  {
   "cell_type": "code",
   "execution_count": 25,
   "id": "3dc75af7",
   "metadata": {},
   "outputs": [
    {
     "ename": "TypeError",
     "evalue": "scatter() missing 1 required positional argument: 'y'",
     "output_type": "error",
     "traceback": [
      "\u001b[1;31m---------------------------------------------------------------------------\u001b[0m",
      "\u001b[1;31mTypeError\u001b[0m                                 Traceback (most recent call last)",
      "\u001b[1;32m<ipython-input-25-b52d90806b9c>\u001b[0m in \u001b[0;36m<module>\u001b[1;34m\u001b[0m\n\u001b[1;32m----> 1\u001b[1;33m \u001b[0mplt\u001b[0m\u001b[1;33m.\u001b[0m\u001b[0mscatter\u001b[0m\u001b[1;33m(\u001b[0m\u001b[0mmodelo2\u001b[0m\u001b[1;33m.\u001b[0m\u001b[0mlabels_\u001b[0m\u001b[1;33m)\u001b[0m\u001b[1;33m\u001b[0m\u001b[1;33m\u001b[0m\u001b[0m\n\u001b[0m\u001b[0;32m      2\u001b[0m \u001b[0mplt\u001b[0m\u001b[1;33m.\u001b[0m\u001b[0mshow\u001b[0m\u001b[1;33m(\u001b[0m\u001b[1;33m)\u001b[0m\u001b[1;33m\u001b[0m\u001b[1;33m\u001b[0m\u001b[0m\n",
      "\u001b[1;31mTypeError\u001b[0m: scatter() missing 1 required positional argument: 'y'"
     ]
    }
   ],
   "source": [
    "plt.scatter(modelo2.labels_,modelo2.cluster_centers_)\n",
    "plt.show()"
   ]
  },
  {
   "cell_type": "code",
   "execution_count": null,
   "id": "e79a173e",
   "metadata": {},
   "outputs": [],
   "source": []
  }
 ],
 "metadata": {
  "kernelspec": {
   "display_name": "Python 3",
   "language": "python",
   "name": "python3"
  },
  "language_info": {
   "codemirror_mode": {
    "name": "ipython",
    "version": 3
   },
   "file_extension": ".py",
   "mimetype": "text/x-python",
   "name": "python",
   "nbconvert_exporter": "python",
   "pygments_lexer": "ipython3",
   "version": "3.8.8"
  }
 },
 "nbformat": 4,
 "nbformat_minor": 5
}
